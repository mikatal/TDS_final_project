{
 "cells": [
  {
   "cell_type": "markdown",
   "metadata": {},
   "source": [
    "# Patterns Mining & Association Rules, is clustering improving?\n",
    "Mining frequent patterns and association rules over the [House prices dataset (Kaggle)](https://www.kaggle.com/c/house-prices-advanced-regression-techniques/data) <br> \n",
    "\n"
   ]
  },
  {
   "cell_type": "markdown",
   "metadata": {},
   "source": [
    "### 0. Imports"
   ]
  },
  {
   "cell_type": "code",
   "execution_count": 2,
   "metadata": {},
   "outputs": [],
   "source": [
    "#data processing\n",
    "import pandas as pd\n",
    "import numpy as np\n",
    "import scipy as sp\n",
    "\n",
    "#statistics\n",
    "from scipy import stats\n",
    "import statsmodels.api as sm\n",
    "\n",
    "\n",
    "#data visualizations\n",
    "import seaborn as sns\n",
    "import matplotlib.pyplot as plt\n",
    "%matplotlib inline\n",
    "\n",
    "\n",
    "#Machine learning library\n",
    "import sklearn\n",
    "\n",
    "#Patterns Mining\n",
    "from efficient_apriori import apriori\n",
    "\n",
    "import warnings\n",
    "warnings.filterwarnings(\"ignore\")\n",
    "import utils\n",
    "\n"
   ]
  },
  {
   "cell_type": "markdown",
   "metadata": {},
   "source": [
    "##### Loading the CSV dataset"
   ]
  },
  {
   "cell_type": "code",
   "execution_count": 3,
   "metadata": {},
   "outputs": [
    {
     "data": {
      "text/plain": [
       "Index(['Date', 'Mode', 'Category', 'Subcategory', 'Note', 'Amount',\n",
       "       'Income/Expense', 'Currency'],\n",
       "      dtype='object')"
      ]
     },
     "execution_count": 3,
     "metadata": {},
     "output_type": "execute_result"
    }
   ],
   "source": [
    "dataset_path = \"../datasets/DailyTransactions.csv\"\n",
    "dtf = pd.read_csv(dataset_path)\n",
    "dtf.columns\n"
   ]
  },
  {
   "cell_type": "markdown",
   "metadata": {},
   "source": [
    "#### Parse date column"
   ]
  },
  {
   "cell_type": "code",
   "execution_count": 4,
   "metadata": {},
   "outputs": [],
   "source": [
    "dtf['Date'] = pd.to_datetime(dtf['Date'],format='mixed')\n",
    "dtf['day'] = dtf['Date'].dt.day\n",
    "dtf['day_name'] = dtf['Date'].dt.day_name() \n",
    "\n",
    "dtf['month'] = dtf['Date'].dt.month\n",
    "dtf['year'] = dtf['Date'].dt.year"
   ]
  },
  {
   "cell_type": "code",
   "execution_count": 5,
   "metadata": {},
   "outputs": [
    {
     "data": {
      "text/plain": [
       "Date              False\n",
       "Mode              False\n",
       "Category          False\n",
       "Subcategory        True\n",
       "Note               True\n",
       "Amount            False\n",
       "Income/Expense    False\n",
       "Currency          False\n",
       "day               False\n",
       "day_name          False\n",
       "month             False\n",
       "year              False\n",
       "dtype: bool"
      ]
     },
     "execution_count": 5,
     "metadata": {},
     "output_type": "execute_result"
    }
   ],
   "source": [
    "\n",
    "#check if any column is null\n",
    "dtf.isnull().any()\n",
    "\n"
   ]
  },
  {
   "cell_type": "markdown",
   "metadata": {},
   "source": [
    "#### Drop possibly problematic columns"
   ]
  },
  {
   "cell_type": "code",
   "execution_count": 6,
   "metadata": {},
   "outputs": [],
   "source": [
    "## Date and Note are date and text which we cant really use\n",
    "dtf = dtf.drop(columns=['Date','Note'])\n"
   ]
  },
  {
   "cell_type": "markdown",
   "metadata": {},
   "source": [
    "##### Defining numeric and categorical columns"
   ]
  },
  {
   "cell_type": "code",
   "execution_count": 7,
   "metadata": {},
   "outputs": [],
   "source": [
    "numeric_columns = dtf.dtypes[(dtf.dtypes==\"float64\") | (dtf.dtypes==\"int64\")].index.tolist()\n",
    "very_numerical = [nc for nc in numeric_columns if dtf[nc].nunique()>20]\n",
    "categorical_columns = [c for c in dtf.columns if c not in numeric_columns]\n",
    "ordinals = list(set(numeric_columns) - set(very_numerical))"
   ]
  },
  {
   "cell_type": "markdown",
   "metadata": {},
   "source": [
    "##### Filling Null Values with the column's mean"
   ]
  },
  {
   "cell_type": "code",
   "execution_count": 8,
   "metadata": {},
   "outputs": [],
   "source": [
    "na_columns = dtf[very_numerical].isna().sum()\n",
    "na_columns = na_columns[na_columns>0]\n",
    "for nc in na_columns.index:\n",
    "    dtf[nc].fillna(dtf[nc].mean(),inplace=True)"
   ]
  },
  {
   "cell_type": "markdown",
   "metadata": {},
   "source": [
    "##### Dropping and filling NA values for categorical columns:"
   ]
  },
  {
   "cell_type": "markdown",
   "metadata": {},
   "source": [
    "1. drop if at least 70% are NA:"
   ]
  },
  {
   "cell_type": "code",
   "execution_count": 9,
   "metadata": {},
   "outputs": [],
   "source": [
    "nul_cols = dtf[categorical_columns].isna().sum()/len(dtf)\n",
    "drop_us = nul_cols[nul_cols>0.7]"
   ]
  },
  {
   "cell_type": "code",
   "execution_count": 10,
   "metadata": {},
   "outputs": [],
   "source": [
    "dtf=dtf.drop(drop_us.index,axis=1)\n",
    "categorical_columns = list(set(categorical_columns)-set(drop_us.index))"
   ]
  },
  {
   "cell_type": "markdown",
   "metadata": {},
   "source": [
    "2. Fill with a new 'na' category:"
   ]
  },
  {
   "cell_type": "code",
   "execution_count": 11,
   "metadata": {},
   "outputs": [],
   "source": [
    "dtf[categorical_columns]= dtf[categorical_columns].fillna('na')"
   ]
  },
  {
   "cell_type": "markdown",
   "metadata": {},
   "source": [
    "##### one hot encoding/lable encoding Categorical data for clustreing"
   ]
  },
  {
   "cell_type": "code",
   "execution_count": 12,
   "metadata": {},
   "outputs": [
    {
     "data": {
      "text/plain": [
       "Amount                    float64\n",
       "Currency_INR                 bool\n",
       "Mode_Cash                    bool\n",
       "Mode_Credit Card             bool\n",
       "Mode_Debit Card              bool\n",
       "                           ...   \n",
       "Subcategory_na               bool\n",
       "Subcategory_ropeway          bool\n",
       "Subcategory_snacks           bool\n",
       "Subcategory_train            bool\n",
       "Subcategory_vegetables       bool\n",
       "Length: 212, dtype: object"
      ]
     },
     "execution_count": 12,
     "metadata": {},
     "output_type": "execute_result"
    }
   ],
   "source": [
    "\n",
    "dtf_encoded = utils.one_hot_encoding(dtf.copy(), categorical_columns,dtype=bool)\n",
    "dtf_encoded.dtypes\n",
    "\n"
   ]
  },
  {
   "cell_type": "markdown",
   "metadata": {},
   "source": [
    "#### Find best k"
   ]
  },
  {
   "cell_type": "code",
   "execution_count": 13,
   "metadata": {},
   "outputs": [
    {
     "data": {
      "image/png": "[encoded data removed]",
      "text/plain": [
       "<Figure size 2000x800 with 1 Axes>"
      ]
     },
     "metadata": {},
     "output_type": "display_data"
    }
   ],
   "source": [
    "utils.opt_kmeans(dtf_encoded,15)"
   ]
  },
  {
   "cell_type": "code",
   "execution_count": 14,
   "metadata": {},
   "outputs": [
    {
     "data": {
      "text/plain": [
       "[2280, 7, 4, 13, 55, 102]"
      ]
     },
     "execution_count": 14,
     "metadata": {},
     "output_type": "execute_result"
    }
   ],
   "source": [
    "clusters = utils.run_k_means(6,dtf_encoded,dtf)\n",
    "lens = [len(a) for a in clusters.values()]\n",
    "lens"
   ]
  },
  {
   "cell_type": "markdown",
   "metadata": {},
   "source": [
    "##### removing small clusters"
   ]
  },
  {
   "cell_type": "code",
   "execution_count": 15,
   "metadata": {},
   "outputs": [
    {
     "name": "stdout",
     "output_type": "stream",
     "text": [
      "2280\n",
      "7\n",
      "4\n",
      "13\n",
      "55\n",
      "102\n"
     ]
    },
    {
     "data": {
      "text/plain": [
       "3"
      ]
     },
     "execution_count": 15,
     "metadata": {},
     "output_type": "execute_result"
    }
   ],
   "source": [
    "labels2remove = []\n",
    "for label,cdf in clusters.items():\n",
    "    print(len(cdf))\n",
    "\n",
    "    #removing clusters under 1% in size. this is just so we dont get things with very high relative support\n",
    "    if len(cdf) < len(dtf)/100:\n",
    "        labels2remove.append(label)\n",
    "for label in labels2remove:\n",
    "    del clusters[label]\n",
    "len(clusters)\n"
   ]
  },
  {
   "cell_type": "markdown",
   "metadata": {},
   "source": [
    "### 2. Using Apriori on a each cluster:"
   ]
  },
  {
   "cell_type": "markdown",
   "metadata": {},
   "source": [
    "### Preprocessing clusters for apriori"
   ]
  },
  {
   "cell_type": "code",
   "execution_count": 16,
   "metadata": {},
   "outputs": [
    {
     "data": {
      "text/html": [
       "<div>\n",
       "<style scoped>\n",
       "    .dataframe tbody tr th:only-of-type {\n",
       "        vertical-align: middle;\n",
       "    }\n",
       "\n",
       "    .dataframe tbody tr th {\n",
       "        vertical-align: top;\n",
       "    }\n",
       "\n",
       "    .dataframe thead th {\n",
       "        text-align: right;\n",
       "    }\n",
       "</style>\n",
       "<table border=\"1\" class=\"dataframe\">\n",
       "  <thead>\n",
       "    <tr style=\"text-align: right;\">\n",
       "      <th></th>\n",
       "      <th>Mode</th>\n",
       "      <th>Category</th>\n",
       "      <th>Subcategory</th>\n",
       "      <th>Amount</th>\n",
       "      <th>Income/Expense</th>\n",
       "      <th>Currency</th>\n",
       "      <th>day</th>\n",
       "      <th>day_name</th>\n",
       "      <th>month</th>\n",
       "      <th>year</th>\n",
       "    </tr>\n",
       "  </thead>\n",
       "  <tbody>\n",
       "    <tr>\n",
       "      <th>0</th>\n",
       "      <td>Cash</td>\n",
       "      <td>Transportation</td>\n",
       "      <td>Train</td>\n",
       "      <td>30.0</td>\n",
       "      <td>Expense</td>\n",
       "      <td>INR</td>\n",
       "      <td>20</td>\n",
       "      <td>Thursday</td>\n",
       "      <td>9</td>\n",
       "      <td>2018</td>\n",
       "    </tr>\n",
       "  </tbody>\n",
       "</table>\n",
       "</div>"
      ],
      "text/plain": [
       "   Mode        Category Subcategory  Amount Income/Expense Currency  day  \\\n",
       "0  Cash  Transportation       Train    30.0        Expense      INR   20   \n",
       "\n",
       "   day_name  month  year  \n",
       "0  Thursday      9  2018  "
      ]
     },
     "execution_count": 16,
     "metadata": {},
     "output_type": "execute_result"
    }
   ],
   "source": [
    "clusters[list(clusters.keys())[0]][:1]"
   ]
  },
  {
   "cell_type": "code",
   "execution_count": 17,
   "metadata": {},
   "outputs": [
    {
     "data": {
      "text/html": [
       "<div>\n",
       "<style scoped>\n",
       "    .dataframe tbody tr th:only-of-type {\n",
       "        vertical-align: middle;\n",
       "    }\n",
       "\n",
       "    .dataframe tbody tr th {\n",
       "        vertical-align: top;\n",
       "    }\n",
       "\n",
       "    .dataframe thead th {\n",
       "        text-align: right;\n",
       "    }\n",
       "</style>\n",
       "<table border=\"1\" class=\"dataframe\">\n",
       "  <thead>\n",
       "    <tr style=\"text-align: right;\">\n",
       "      <th></th>\n",
       "      <th>Mode</th>\n",
       "      <th>Category</th>\n",
       "      <th>Subcategory</th>\n",
       "      <th>Amount</th>\n",
       "      <th>Income/Expense</th>\n",
       "      <th>Currency</th>\n",
       "      <th>day</th>\n",
       "      <th>day_name</th>\n",
       "      <th>month</th>\n",
       "      <th>year</th>\n",
       "    </tr>\n",
       "  </thead>\n",
       "  <tbody>\n",
       "    <tr>\n",
       "      <th>0</th>\n",
       "      <td>Cash</td>\n",
       "      <td>Transportation</td>\n",
       "      <td>Train</td>\n",
       "      <td>low</td>\n",
       "      <td>Expense</td>\n",
       "      <td>INR</td>\n",
       "      <td>20</td>\n",
       "      <td>Thursday</td>\n",
       "      <td>9</td>\n",
       "      <td>2018</td>\n",
       "    </tr>\n",
       "    <tr>\n",
       "      <th>1</th>\n",
       "      <td>Cash</td>\n",
       "      <td>Food</td>\n",
       "      <td>snacks</td>\n",
       "      <td>low</td>\n",
       "      <td>Expense</td>\n",
       "      <td>INR</td>\n",
       "      <td>20</td>\n",
       "      <td>Thursday</td>\n",
       "      <td>9</td>\n",
       "      <td>2018</td>\n",
       "    </tr>\n",
       "    <tr>\n",
       "      <th>2</th>\n",
       "      <td>Saving Bank account 1</td>\n",
       "      <td>subscription</td>\n",
       "      <td>Netflix</td>\n",
       "      <td>high</td>\n",
       "      <td>Expense</td>\n",
       "      <td>INR</td>\n",
       "      <td>19</td>\n",
       "      <td>Wednesday</td>\n",
       "      <td>9</td>\n",
       "      <td>2018</td>\n",
       "    </tr>\n",
       "    <tr>\n",
       "      <th>3</th>\n",
       "      <td>Saving Bank account 1</td>\n",
       "      <td>subscription</td>\n",
       "      <td>Mobile Service Provider</td>\n",
       "      <td>very low</td>\n",
       "      <td>Expense</td>\n",
       "      <td>INR</td>\n",
       "      <td>17</td>\n",
       "      <td>Monday</td>\n",
       "      <td>9</td>\n",
       "      <td>2018</td>\n",
       "    </tr>\n",
       "    <tr>\n",
       "      <th>4</th>\n",
       "      <td>Cash</td>\n",
       "      <td>Festivals</td>\n",
       "      <td>Ganesh Pujan</td>\n",
       "      <td>high</td>\n",
       "      <td>Expense</td>\n",
       "      <td>INR</td>\n",
       "      <td>16</td>\n",
       "      <td>Sunday</td>\n",
       "      <td>9</td>\n",
       "      <td>2018</td>\n",
       "    </tr>\n",
       "    <tr>\n",
       "      <th>...</th>\n",
       "      <td>...</td>\n",
       "      <td>...</td>\n",
       "      <td>...</td>\n",
       "      <td>...</td>\n",
       "      <td>...</td>\n",
       "      <td>...</td>\n",
       "      <td>...</td>\n",
       "      <td>...</td>\n",
       "      <td>...</td>\n",
       "      <td>...</td>\n",
       "    </tr>\n",
       "    <tr>\n",
       "      <th>2456</th>\n",
       "      <td>Cash</td>\n",
       "      <td>Transportation</td>\n",
       "      <td>na</td>\n",
       "      <td>very low</td>\n",
       "      <td>Expense</td>\n",
       "      <td>INR</td>\n",
       "      <td>1</td>\n",
       "      <td>Thursday</td>\n",
       "      <td>1</td>\n",
       "      <td>2015</td>\n",
       "    </tr>\n",
       "    <tr>\n",
       "      <th>2457</th>\n",
       "      <td>Cash</td>\n",
       "      <td>Transportation</td>\n",
       "      <td>na</td>\n",
       "      <td>very low</td>\n",
       "      <td>Expense</td>\n",
       "      <td>INR</td>\n",
       "      <td>1</td>\n",
       "      <td>Thursday</td>\n",
       "      <td>1</td>\n",
       "      <td>2015</td>\n",
       "    </tr>\n",
       "    <tr>\n",
       "      <th>2458</th>\n",
       "      <td>Cash</td>\n",
       "      <td>Transportation</td>\n",
       "      <td>na</td>\n",
       "      <td>low</td>\n",
       "      <td>Expense</td>\n",
       "      <td>INR</td>\n",
       "      <td>1</td>\n",
       "      <td>Thursday</td>\n",
       "      <td>1</td>\n",
       "      <td>2015</td>\n",
       "    </tr>\n",
       "    <tr>\n",
       "      <th>2459</th>\n",
       "      <td>Cash</td>\n",
       "      <td>Food</td>\n",
       "      <td>na</td>\n",
       "      <td>very low</td>\n",
       "      <td>Expense</td>\n",
       "      <td>INR</td>\n",
       "      <td>1</td>\n",
       "      <td>Thursday</td>\n",
       "      <td>1</td>\n",
       "      <td>2015</td>\n",
       "    </tr>\n",
       "    <tr>\n",
       "      <th>2460</th>\n",
       "      <td>Cash</td>\n",
       "      <td>Transportation</td>\n",
       "      <td>na</td>\n",
       "      <td>very low</td>\n",
       "      <td>Expense</td>\n",
       "      <td>INR</td>\n",
       "      <td>1</td>\n",
       "      <td>Thursday</td>\n",
       "      <td>1</td>\n",
       "      <td>2015</td>\n",
       "    </tr>\n",
       "  </tbody>\n",
       "</table>\n",
       "<p>2280 rows × 10 columns</p>\n",
       "</div>"
      ],
      "text/plain": [
       "                       Mode        Category              Subcategory  \\\n",
       "0                      Cash  Transportation                    Train   \n",
       "1                      Cash            Food                   snacks   \n",
       "2     Saving Bank account 1    subscription                  Netflix   \n",
       "3     Saving Bank account 1    subscription  Mobile Service Provider   \n",
       "4                      Cash       Festivals             Ganesh Pujan   \n",
       "...                     ...             ...                      ...   \n",
       "2456                   Cash  Transportation                       na   \n",
       "2457                   Cash  Transportation                       na   \n",
       "2458                   Cash  Transportation                       na   \n",
       "2459                   Cash            Food                       na   \n",
       "2460                   Cash  Transportation                       na   \n",
       "\n",
       "        Amount Income/Expense Currency  day   day_name  month  year  \n",
       "0          low        Expense      INR   20   Thursday      9  2018  \n",
       "1          low        Expense      INR   20   Thursday      9  2018  \n",
       "2         high        Expense      INR   19  Wednesday      9  2018  \n",
       "3     very low        Expense      INR   17     Monday      9  2018  \n",
       "4         high        Expense      INR   16     Sunday      9  2018  \n",
       "...        ...            ...      ...  ...        ...    ...   ...  \n",
       "2456  very low        Expense      INR    1   Thursday      1  2015  \n",
       "2457  very low        Expense      INR    1   Thursday      1  2015  \n",
       "2458       low        Expense      INR    1   Thursday      1  2015  \n",
       "2459  very low        Expense      INR    1   Thursday      1  2015  \n",
       "2460  very low        Expense      INR    1   Thursday      1  2015  \n",
       "\n",
       "[2280 rows x 10 columns]"
      ]
     },
     "execution_count": 17,
     "metadata": {},
     "output_type": "execute_result"
    }
   ],
   "source": [
    "for label,cdf in clusters.items():\n",
    "    clusters[label] = utils.preprocess_4_apriori(cdf,very_numerical)\n",
    "clusters[list(clusters.keys())[0]]"
   ]
  },
  {
   "cell_type": "code",
   "execution_count": 18,
   "metadata": {},
   "outputs": [
    {
     "data": {
      "text/html": [
       "<div>\n",
       "<style scoped>\n",
       "    .dataframe tbody tr th:only-of-type {\n",
       "        vertical-align: middle;\n",
       "    }\n",
       "\n",
       "    .dataframe tbody tr th {\n",
       "        vertical-align: top;\n",
       "    }\n",
       "\n",
       "    .dataframe thead th {\n",
       "        text-align: right;\n",
       "    }\n",
       "</style>\n",
       "<table border=\"1\" class=\"dataframe\">\n",
       "  <thead>\n",
       "    <tr style=\"text-align: right;\">\n",
       "      <th></th>\n",
       "      <th>Mode</th>\n",
       "      <th>Category</th>\n",
       "      <th>Subcategory</th>\n",
       "      <th>Amount</th>\n",
       "      <th>Income/Expense</th>\n",
       "      <th>Currency</th>\n",
       "      <th>day</th>\n",
       "      <th>day_name</th>\n",
       "      <th>month</th>\n",
       "      <th>year</th>\n",
       "    </tr>\n",
       "  </thead>\n",
       "  <tbody>\n",
       "    <tr>\n",
       "      <th>0</th>\n",
       "      <td>Cash</td>\n",
       "      <td>Transportation</td>\n",
       "      <td>Train</td>\n",
       "      <td>low</td>\n",
       "      <td>Expense</td>\n",
       "      <td>INR</td>\n",
       "      <td>20</td>\n",
       "      <td>Thursday</td>\n",
       "      <td>9</td>\n",
       "      <td>2018</td>\n",
       "    </tr>\n",
       "  </tbody>\n",
       "</table>\n",
       "</div>"
      ],
      "text/plain": [
       "   Mode        Category Subcategory Amount Income/Expense Currency  day  \\\n",
       "0  Cash  Transportation       Train    low        Expense      INR   20   \n",
       "\n",
       "   day_name  month  year  \n",
       "0  Thursday      9  2018  "
      ]
     },
     "execution_count": 18,
     "metadata": {},
     "output_type": "execute_result"
    }
   ],
   "source": [
    "clusters[list(clusters.keys())[0]][:1]"
   ]
  },
  {
   "cell_type": "code",
   "execution_count": 19,
   "metadata": {},
   "outputs": [
    {
     "name": "stdout",
     "output_type": "stream",
     "text": [
      "0\n",
      "2\n",
      "160\n"
     ]
    },
    {
     "data": {
      "text/plain": [
       "204"
      ]
     },
     "execution_count": 19,
     "metadata": {},
     "output_type": "execute_result"
    }
   ],
   "source": [
    "#might need to select only several columns for running effiency\n",
    "patitioned_total_rules = set()\n",
    "\n",
    "for label,cdf in clusters.items():\n",
    "    transactions = utils.convert_ds_to_transactions(cdf)\n",
    "    itemsets, rules = apriori(transactions, min_support=0.5, min_confidence=0.8,output_transaction_ids=False)\n",
    "    print(len(patitioned_total_rules))\n",
    "    patitioned_total_rules.update(rules)\n",
    "\n",
    "patitioned_total_rules=list(patitioned_total_rules)\n",
    "len(patitioned_total_rules)"
   ]
  },
  {
   "cell_type": "markdown",
   "metadata": {},
   "source": [
    "### do apriori on the initial dataset for comparison"
   ]
  },
  {
   "cell_type": "code",
   "execution_count": 20,
   "metadata": {},
   "outputs": [],
   "source": [
    "transactions = utils.convert_ds_to_transactions(dtf)\n",
    "unpatitioned_total_itemsets, unpatitioned_total_rules = apriori(transactions, min_support=0.3, min_confidence=0.5,output_transaction_ids=False)"
   ]
  },
  {
   "cell_type": "code",
   "execution_count": 21,
   "metadata": {},
   "outputs": [
    {
     "data": {
      "text/plain": [
       "22"
      ]
     },
     "execution_count": 21,
     "metadata": {},
     "output_type": "execute_result"
    }
   ],
   "source": [
    "len(unpatitioned_total_rules)"
   ]
  },
  {
   "cell_type": "markdown",
   "metadata": {},
   "source": [
    "## 2. Analyzing the rules:\n",
    "We need a measures of interestingness to evaluate our results.\n",
    "\n",
    "We first use the Lift measurement taught in class.\n",
    "on top of that we use the Conviction and Leverage measurements.\n",
    "formulas and meaning of those can be seen in the report file."
   ]
  },
  {
   "cell_type": "markdown",
   "metadata": {},
   "source": [
    "### Lift comparison"
   ]
  },
  {
   "cell_type": "code",
   "execution_count": 22,
   "metadata": {},
   "outputs": [
    {
     "data": {
      "image/png": "[encoded data removed]",
      "text/plain": [
       "<Figure size 640x480 with 1 Axes>"
      ]
     },
     "metadata": {},
     "output_type": "display_data"
    }
   ],
   "source": [
    "partitioned_lift_arr = [rule.lift for rule in patitioned_total_rules]\n",
    "unpartitioned_lift_arr = [rule.lift for rule in unpatitioned_total_rules]\n",
    "plt.hist([partitioned_lift_arr,unpartitioned_lift_arr])\n",
    "plt.legend(['partitioned rules','regular rules'])\n",
    "plt.xlabel('Lift')\n",
    "plt.ylabel('Frequency')\n",
    "plt.show()\n"
   ]
  },
  {
   "cell_type": "markdown",
   "metadata": {},
   "source": [
    "### Conviction comparison"
   ]
  },
  {
   "cell_type": "code",
   "execution_count": 23,
   "metadata": {},
   "outputs": [
    {
     "data": {
      "image/png": "[encoded data removed]",
      "text/plain": [
       "<Figure size 640x480 with 1 Axes>"
      ]
     },
     "metadata": {},
     "output_type": "display_data"
    }
   ],
   "source": [
    "#creating conviction graph for both the partitioned rules and the unpartitioned rules\n",
    "partitioned_conviction_arr = [rule.conviction for rule in patitioned_total_rules]\n",
    "unpartitioned_conviction_arr = [rule.conviction for rule in unpatitioned_total_rules]\n",
    "plt.hist([partitioned_conviction_arr,unpartitioned_conviction_arr])\n",
    "plt.legend(['partitioned rules','regular rules'])\n",
    "plt.xlabel('Conviction')\n",
    "plt.ylabel('Frequency')\n",
    "\n",
    "plt.show()"
   ]
  },
  {
   "cell_type": "markdown",
   "metadata": {},
   "source": [
    "### Confidence comparison\n"
   ]
  },
  {
   "cell_type": "code",
   "execution_count": 24,
   "metadata": {},
   "outputs": [
    {
     "data": {
      "image/png": "[encoded data removed]",
      "text/plain": [
       "<Figure size 640x480 with 1 Axes>"
      ]
     },
     "metadata": {},
     "output_type": "display_data"
    }
   ],
   "source": [
    "partitioned_conf_arr = [rule.confidence for rule in patitioned_total_rules]\n",
    "unpartitioned_conf_arr = [rule.confidence for rule in unpatitioned_total_rules]\n",
    "plt.hist([partitioned_conf_arr,unpartitioned_conf_arr])\n",
    "plt.legend(['partitioned rules','regular rules'])\n",
    "plt.xlabel('Confidence')\n",
    "plt.ylabel('Frequency')\n",
    "\n",
    "plt.show()"
   ]
  }
 ],
 "metadata": {
  "kernelspec": {
   "display_name": "base",
   "language": "python",
   "name": "python3"
  },
  "language_info": {
   "codemirror_mode": {
    "name": "ipython",
    "version": 3
   },
   "file_extension": ".py",
   "mimetype": "text/x-python",
   "name": "python",
   "nbconvert_exporter": "python",
   "pygments_lexer": "ipython3",
   "version": "3.12.3"
  }
 },
 "nbformat": 4,
 "nbformat_minor": 2
}
